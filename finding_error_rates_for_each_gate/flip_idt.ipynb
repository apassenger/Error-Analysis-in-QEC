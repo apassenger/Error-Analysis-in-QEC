{
 "cells": [
  {
   "cell_type": "code",
   "execution_count": 1,
   "id": "3fefb597",
   "metadata": {},
   "outputs": [],
   "source": [
    "import numpy as np\n",
    "import math \n",
    "from qiskit import QuantumCircuit,ClassicalRegister, QuantumRegister, transpile\n",
    "\n",
    "import qiskit.quantum_info as qi\n",
    "from qiskit.visualization import plot_state_city, array_to_latex\n",
    "import sympy \n",
    "import qutip\n",
    "#np.set_printoptions(precision=3) #\"rounding\"\n",
    "#np.set_printoptions(suppress=True) #supressing scientific format\"\n",
    "import itertools\n",
    "from math import pi"
   ]
  },
  {
   "cell_type": "code",
   "execution_count": 2,
   "id": "883f9ab3",
   "metadata": {},
   "outputs": [
    {
     "data": {
      "text/plain": [
       "array([[ 1.000000e+00,  0.000000e+00,  0.000000e+00,  0.000000e+00],\n",
       "       [-1.800000e-04,  9.367337e-01, -3.931400e-03, -4.725400e-03],\n",
       "       [ 2.330900e-02,  1.383980e-02,  9.353173e-01, -3.049660e-02],\n",
       "       [ 1.086520e-02, -8.871400e-03,  1.741950e-02,  9.827782e-01]])"
      ]
     },
     "execution_count": 2,
     "metadata": {},
     "output_type": "execute_result"
    }
   ],
   "source": [
    "exp_idt = np.array([[1,0,0,0],[-1.8e-4,0.9367337,-0.0039314,-0.0047254],[0.023309,0.0138398,0.9353173,-0.0304966],[0.0108652,-0.0088714,0.0174195,0.9827782]])\n",
    "exp_idt"
   ]
  },
  {
   "cell_type": "code",
   "execution_count": 3,
   "id": "32e08140",
   "metadata": {},
   "outputs": [
    {
     "data": {
      "text/plain": [
       "True"
      ]
     },
     "execution_count": 3,
     "metadata": {},
     "output_type": "execute_result"
    }
   ],
   "source": [
    "ptm_exp=qi.PTM(exp_idt)\n",
    "ptm_exp.is_cp()"
   ]
  },
  {
   "cell_type": "code",
   "execution_count": 4,
   "id": "df74d5a1",
   "metadata": {},
   "outputs": [
    {
     "data": {
      "text/plain": [
       "Kraus([[[-9.84447177e-01-7.67061139e-18j,\n",
       "          1.00575460e-03+1.82351449e-02j],\n",
       "        [-1.08968355e-03+6.25615662e-03j,\n",
       "         -9.78901978e-01-9.19498996e-03j]],\n",
       "\n",
       "       [[ 1.65023859e-01+1.11919744e-16j,\n",
       "         -2.33835912e-02+6.76081710e-02j],\n",
       "        [-2.61524190e-02+1.34541614e-02j,\n",
       "         -1.64599834e-01-8.88894484e-04j]],\n",
       "\n",
       "       [[-2.11870785e-02-9.61573170e-13j,\n",
       "         -1.86002119e-02+9.02436736e-02j],\n",
       "        [-3.72900574e-02-1.83890758e-02j,\n",
       "          2.28844708e-02+9.12955294e-04j]],\n",
       "\n",
       "       [[ 1.92082893e-03+1.27804730e-12j,\n",
       "          9.98453264e-03-1.65270430e-03j],\n",
       "        [ 1.40487498e-04-2.33298818e-02j,\n",
       "         -2.09978304e-03-1.82342898e-04j]]],\n",
       "      input_dims=(2,), output_dims=(2,))"
      ]
     },
     "execution_count": 4,
     "metadata": {},
     "output_type": "execute_result"
    }
   ],
   "source": [
    "exp_kraus=qi.Kraus(ptm_exp)\n",
    "exp_kraus"
   ]
  },
  {
   "cell_type": "code",
   "execution_count": 5,
   "id": "e15332ed",
   "metadata": {},
   "outputs": [],
   "source": [
    "krausf=np.array([[[-9.84447177e-01-7.67061139e-18j,\n",
    "          1.00575460e-03+1.82351449e-02j],\n",
    "        [-1.08968355e-03+6.25615662e-03j,\n",
    "         -9.78901978e-01-9.19498996e-03j]],\n",
    "\n",
    "       [[ 1.65023859e-01+1.11919744e-16j,\n",
    "         -2.33835912e-02+6.76081710e-02j],\n",
    "        [-2.61524190e-02+1.34541614e-02j,\n",
    "         -1.64599834e-01-8.88894484e-04j]],\n",
    "\n",
    "       [[-2.11870785e-02-9.61573170e-13j,\n",
    "         -1.86002119e-02+9.02436736e-02j],\n",
    "        [-3.72900574e-02-1.83890758e-02j,\n",
    "          2.28844708e-02+9.12955294e-04j]],\n",
    "\n",
    "       [[ 1.92082893e-03+1.27804730e-12j,\n",
    "          9.98453264e-03-1.65270430e-03j],\n",
    "        [ 1.40487498e-04-2.33298818e-02j,\n",
    "         -2.09978304e-03-1.82342898e-04j]]])"
   ]
  },
  {
   "cell_type": "code",
   "execution_count": 6,
   "id": "5d5c3a37",
   "metadata": {},
   "outputs": [
    {
     "data": {
      "text/plain": [
       "array([[-0.98444718-7.67061139e-18j,  0.00100575+1.82351449e-02j],\n",
       "       [-0.00108968+6.25615662e-03j, -0.97890198-9.19498996e-03j]])"
      ]
     },
     "execution_count": 6,
     "metadata": {},
     "output_type": "execute_result"
    }
   ],
   "source": [
    "krausf[0]"
   ]
  },
  {
   "cell_type": "code",
   "execution_count": 7,
   "id": "0c55a6f4",
   "metadata": {},
   "outputs": [],
   "source": [
    "from sympy.physics.quantum import TensorProduct\n",
    "i = np.array([[1, 0], [0, 1]])\n",
    "x = np.array([[0, 1], [1, 0]])\n",
    "y = np.array([[0,-1j],[1j,0]])\n",
    "z = np.array([[1, 0], [0,-1]])"
   ]
  },
  {
   "cell_type": "code",
   "execution_count": 8,
   "id": "bbc9b6fd",
   "metadata": {},
   "outputs": [],
   "source": [
    "from itertools import product\n",
    "def coefficients(kraus_list,q_number):\n",
    "    paulis = list(product([i,x,y,z],repeat=q_number))\n",
    "    spaulis = list(product(['i','x','y','z'],repeat=q_number))\n",
    "    #print(spaulis)\n",
    "    result = []\n",
    "    for k_index,kraus in enumerate(kraus_list,start=0):\n",
    "        print(kraus,'*')\n",
    "        for index, pauli in enumerate(paulis, start=0):\n",
    "            print(pauli[0])\n",
    "            a = 1/2*np.trace(np.matmul(kraus,pauli[0]))\n",
    "            #b=1/2*np.trace(a)\n",
    "            #print(b)\n",
    "            result.append((a,spaulis[index],k_index))\n",
    "    return result"
   ]
  },
  {
   "cell_type": "code",
   "execution_count": 9,
   "id": "15faf8cb",
   "metadata": {},
   "outputs": [
    {
     "name": "stdout",
     "output_type": "stream",
     "text": [
      "[[-0.98444718-7.67061139e-18j  0.00100575+1.82351449e-02j]\n",
      " [-0.00108968+6.25615662e-03j -0.97890198-9.19498996e-03j]] *\n",
      "[[1 0]\n",
      " [0 1]]\n",
      "[[0 1]\n",
      " [1 0]]\n",
      "[[ 0.+0.j -0.-1.j]\n",
      " [ 0.+1.j  0.+0.j]]\n",
      "[[ 1  0]\n",
      " [ 0 -1]]\n",
      "[[ 0.16502386+1.11919744e-16j -0.02338359+6.76081710e-02j]\n",
      " [-0.02615242+1.34541614e-02j -0.16459983-8.88894484e-04j]] *\n",
      "[[1 0]\n",
      " [0 1]]\n",
      "[[0 1]\n",
      " [1 0]]\n",
      "[[ 0.+0.j -0.-1.j]\n",
      " [ 0.+1.j  0.+0.j]]\n",
      "[[ 1  0]\n",
      " [ 0 -1]]\n",
      "[[-0.02118708-9.61573170e-13j -0.01860021+9.02436736e-02j]\n",
      " [-0.03729006-1.83890758e-02j  0.02288447+9.12955294e-04j]] *\n",
      "[[1 0]\n",
      " [0 1]]\n",
      "[[0 1]\n",
      " [1 0]]\n",
      "[[ 0.+0.j -0.-1.j]\n",
      " [ 0.+1.j  0.+0.j]]\n",
      "[[ 1  0]\n",
      " [ 0 -1]]\n",
      "[[ 0.00192083+1.27804730e-12j  0.00998453-1.65270430e-03j]\n",
      " [ 0.00014049-2.33298818e-02j -0.00209978-1.82342898e-04j]] *\n",
      "[[1 0]\n",
      " [0 1]]\n",
      "[[0 1]\n",
      " [1 0]]\n",
      "[[ 0.+0.j -0.-1.j]\n",
      " [ 0.+1.j  0.+0.j]]\n",
      "[[ 1  0]\n",
      " [ 0 -1]]\n"
     ]
    },
    {
     "data": {
      "text/plain": [
       "[((-0.9816745775-0.004597494980000004j), ('i',), 0),\n",
       " ((-4.1964474999999966e-05+0.01224565076j), ('x',), 0),\n",
       " ((-0.00598949414+0.001047719075j), ('y',), 0),\n",
       " ((-0.0027725994999999726+0.004597494979999997j), ('z',), 0),\n",
       " ((0.00021201249999999727-0.00044444724199994406j), ('i',), 1),\n",
       " ((-0.0247680051+0.040531166199999996j), ('x',), 1),\n",
       " ((-0.0270770048+0.0013844138999999991j), ('y',), 1),\n",
       " ((0.1648118465+0.00044444724200005595j), ('z',), 1),\n",
       " ((0.0008486961499999997+0.00045647764651921344j), ('i',), 2),\n",
       " ((-0.02794513465+0.0359272989j), ('x',), 2),\n",
       " ((-0.0543163747+0.00934492275j), ('y',), 2),\n",
       " ((-0.02203577465-0.0004564776474807866j), ('z',), 2),\n",
       " ((-8.947705499999991e-05-9.117144836097636e-05j), ('i',), 3),\n",
       " ((0.005062510069-0.01249129305j), ('x',), 3),\n",
       " ((-0.010838588750000001+0.004922022571j), ('y',), 3),\n",
       " ((0.002010305985+9.117144963902366e-05j), ('z',), 3)]"
      ]
     },
     "execution_count": 9,
     "metadata": {},
     "output_type": "execute_result"
    }
   ],
   "source": [
    "coef = coefficients(krausf,1)\n",
    "coef"
   ]
  },
  {
   "cell_type": "code",
   "execution_count": 10,
   "id": "4b268624",
   "metadata": {},
   "outputs": [
    {
     "data": {
      "text/plain": [
       "defaultdict(complex,\n",
       "            {('i',): (0.9637217240830237+0j),\n",
       "             ('x',): (0.0046585685899766995+0j),\n",
       "             ('y',): (0.0039502946213134755+0j),\n",
       "             ('z',): (0.027678998503232462+0j)})"
      ]
     },
     "execution_count": 10,
     "metadata": {},
     "output_type": "execute_result"
    }
   ],
   "source": [
    "from collections import defaultdict\n",
    "d = defaultdict(complex)\n",
    "for c, name, n in coef:\n",
    "    #print(c,name, n)\n",
    "    d[name] += abs(c) *abs(c).round(4)\n",
    " \n",
    "d"
   ]
  },
  {
   "cell_type": "code",
   "execution_count": 17,
   "id": "dd26742d",
   "metadata": {},
   "outputs": [
    {
     "data": {
      "text/plain": [
       "(-4.1964474999999966e-05+0.01224565076j)"
      ]
     },
     "execution_count": 17,
     "metadata": {},
     "output_type": "execute_result"
    }
   ],
   "source": [
    "1/2*np.trace(np.matmul(krausf[0],x))"
   ]
  },
  {
   "cell_type": "code",
   "execution_count": 16,
   "id": "693d5009",
   "metadata": {},
   "outputs": [
    {
     "data": {
      "text/plain": [
       "(0.00021201249999999727-0.00044444724199994406j)"
      ]
     },
     "execution_count": 16,
     "metadata": {},
     "output_type": "execute_result"
    }
   ],
   "source": [
    "1/2*np.trace(np.matmul(krausf[1],i))"
   ]
  },
  {
   "cell_type": "code",
   "execution_count": null,
   "id": "525593fd",
   "metadata": {},
   "outputs": [],
   "source": []
  }
 ],
 "metadata": {
  "kernelspec": {
   "display_name": "Python 3 (ipykernel)",
   "language": "python",
   "name": "python3"
  },
  "language_info": {
   "codemirror_mode": {
    "name": "ipython",
    "version": 3
   },
   "file_extension": ".py",
   "mimetype": "text/x-python",
   "name": "python",
   "nbconvert_exporter": "python",
   "pygments_lexer": "ipython3",
   "version": "3.9.7"
  }
 },
 "nbformat": 4,
 "nbformat_minor": 5
}
